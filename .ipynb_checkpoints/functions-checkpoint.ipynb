{
 "cells": [
  {
   "cell_type": "code",
   "execution_count": 13,
   "id": "6347374a",
   "metadata": {},
   "outputs": [],
   "source": [
    "import pandas as pd\n",
    "import warnings\n",
    "import numpy as np\n",
    "warnings.filterwarnings(action='ignore')\n",
    "import plotly.express as px\n",
    "import matplotlib.pyplot as plt\n",
    "import seaborn as sns"
   ]
  },
  {
   "cell_type": "code",
   "execution_count": 37,
   "id": "2477ae04",
   "metadata": {},
   "outputs": [],
   "source": [
    "series = pd.read_excel('C:\\\\Users\\\\dell\\\\Desktop\\\\timeseries\\\\HBS_Table_No._162___Monthly_Average_Price_of_Gold_and_Silver_in_Domestic_and_Foreign_Markets.xlsx', header =2)"
   ]
  },
  {
   "cell_type": "code",
   "execution_count": 38,
   "id": "63328831",
   "metadata": {},
   "outputs": [],
   "source": [
    "def preprocessing_gold(series):\n",
    "    gold = series[['Unnamed: 2','Gold']]\n",
    "    gold.rename({'Unnamed: 2':'month'}, axis=1, inplace=True)\n",
    "    gold = gold[gold['month'] != 'Average']\n",
    "    gold =  gold.iloc[2:]\n",
    "    gold =  gold.iloc[:-2]\n",
    "    gold.reset_index(drop = True, inplace= True)\n",
    "    \n",
    "    gold['x'] = np.nan\n",
    "    for x in range(len(gold['month'])):\n",
    "        if gold['month'][x] not in ['JAN','FEB','MAR','APR','MAY','JUN','JUL','AUG','SEP','OCT','NOV','DEC']:\n",
    "            gold['x'][x] = gold['month'][x]\n",
    "        else:\n",
    "            pass\n",
    "        x = x+1\n",
    "        \n",
    "    gold.ffill(inplace=True)\n",
    "    # remove rows of nan\n",
    "    index = []\n",
    "    for x in range(len(gold['month'])):\n",
    "        if gold['month'][x] not in ['JAN','FEB','MAR','APR','MAY','JUN','JUL','AUG','SEP','OCT','NOV','DEC']:\n",
    "            index.append(gold['month'][x])\n",
    "        else:\n",
    "            pass\n",
    "    for x in range(len(gold.x)):\n",
    "        gold.x[x]=gold.x[x][:4]\n",
    "    gold = gold[~gold['month'].isin(index)]\n",
    "    gold.reset_index(drop = True, inplace= True)\n",
    "        \n",
    "    monthdict = {'JAN':'01-01','FEB':'02-01','MAR':'03-01','APR':'04-01','MAY':'05-01','JUN':'06-01','JUL':'07-01','AUG':'08-01','SEP':'09-01','OCT':'10-01','NOV':'11-01','DEC':'12-01'}\n",
    "    gold['month'] = gold['month'].map(monthdict)\n",
    "    \n",
    "    for x in range(len(gold.x)):\n",
    "        if gold['month'][x] in ['01-01','02-01','03-01']:\n",
    "            gold['x'][x] = str(int(gold['x'][x])+1)\n",
    "        else:\n",
    "            pass\n",
    "    gold['year'] = gold['x'].str.cat(gold['month'], sep =\"-\")\n",
    "    \n",
    "    gold.drop(['month','x'], axis=1, inplace=True)\n",
    "    gold.year = pd.to_datetime(gold.year)\n",
    "    gold = gold.iloc[::-1]\n",
    "    gold.reset_index(inplace = True, drop = True)\n",
    "    \n",
    "    return gold\n",
    "    "
   ]
  },
  {
   "cell_type": "code",
   "execution_count": 99,
   "id": "a8fb97bd",
   "metadata": {},
   "outputs": [],
   "source": [
    "def dataanlysis(gold):\n",
    "    \n",
    "    gold['month'] = gold['year'].dt.month_name(locale = 'English')\n",
    "    gold['year2'] = gold['year'].dt.year\n",
    "       \n",
    "    plt.figure(figsize=(20,8))\n",
    "    x = sns.boxplot(gold['year2'],  gold['Gold'])\n",
    "    \n",
    "    plt.figure(figsize=(15,7))\n",
    "    y =sns.lineplot(gold.loc[gold['year2'] == 2000]['month'],gold.loc[gold['year2'] == 2000]['Gold'])\n",
    "    \n",
    "    plt.figure(figsize = (15,7))\n",
    "    z =sns.lineplot(gold[9:]['month'], gold[9:]['Gold'], hue= gold[9:]['year2'])\n",
    "    \n",
    "    #plt.figure(figsize = (10,10))\n",
    "    #a = sns.lineplot(gold[117:249]['month'], gold[117:249]['Gold'], hue= gold[117:249]['year2'])\n",
    "    \n",
    "    #plt.figure(figsize = (20,10))\n",
    "    #b = sns.lineplot(gold[249:]['month'], gold[249:]['Gold'], hue= gold[249:]['year2'])\n",
    "    \n",
    "    plt.figure(figsize = (15,7))\n",
    "    c = sns.lineplot(gold['year'], gold['Gold'], hue= gold['month'])\n",
    "    \n",
    "    plt.figure(figsize = (15,7))\n",
    "    d = sns.distplot(gold['Gold'], gold['year2'])\n",
    "    \n",
    "    \n",
    "    return c,x,y,z,d\n",
    "    \n",
    "    \n",
    "    "
   ]
  },
  {
   "cell_type": "code",
   "execution_count": null,
   "id": "4e26a608",
   "metadata": {},
   "outputs": [],
   "source": []
  },
  {
   "cell_type": "code",
   "execution_count": null,
   "id": "52628179",
   "metadata": {
    "scrolled": false
   },
   "outputs": [],
   "source": []
  },
  {
   "cell_type": "code",
   "execution_count": null,
   "id": "bcfaf3a0",
   "metadata": {},
   "outputs": [],
   "source": []
  },
  {
   "cell_type": "code",
   "execution_count": null,
   "id": "ada61115",
   "metadata": {},
   "outputs": [],
   "source": []
  },
  {
   "cell_type": "code",
   "execution_count": null,
   "id": "6cda4d0c",
   "metadata": {},
   "outputs": [],
   "source": []
  },
  {
   "cell_type": "code",
   "execution_count": null,
   "id": "89391bb0",
   "metadata": {},
   "outputs": [],
   "source": []
  }
 ],
 "metadata": {
  "kernelspec": {
   "display_name": "Python 3 (ipykernel)",
   "language": "python",
   "name": "python3"
  },
  "language_info": {
   "codemirror_mode": {
    "name": "ipython",
    "version": 3
   },
   "file_extension": ".py",
   "mimetype": "text/x-python",
   "name": "python",
   "nbconvert_exporter": "python",
   "pygments_lexer": "ipython3",
   "version": "3.9.7"
  }
 },
 "nbformat": 4,
 "nbformat_minor": 5
}
